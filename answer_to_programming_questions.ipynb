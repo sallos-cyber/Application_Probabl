{
 "cells": [
  {
   "cell_type": "markdown",
   "metadata": {},
   "source": [
    "\n",
    "# Solution to the following programming question: \n",
    "\n",
    "\n",
    "Using sklearn.model_selection.permutation_test_score, compute the p-value indicating if the score obtained by an instance of sklearn.dummy.DummyClassifier on the dataset sklearn.datasets.load_iris is obtained by chance.\n",
    "\n",
    "Repeat this analysis using sklearn.ensemble.HistGradientBoostingClassifier instead of sklearn.dummy.DummyClassifier."
   ]
  },
  {
   "cell_type": "code",
   "execution_count": 11,
   "metadata": {},
   "outputs": [],
   "source": [
    "# Author:  Irene Markelic <irene@markelic.de>"
   ]
  },
  {
   "cell_type": "markdown",
   "metadata": {},
   "source": [
    "## Dataset\n",
    "\n",
    "As asked, we will use the `iris_dataset`, which consists of measurements taken\n",
    "from 3 types of irises."
   ]
  },
  {
   "cell_type": "code",
   "execution_count": 12,
   "metadata": {},
   "outputs": [],
   "source": [
    "from sklearn.datasets import load_iris\n",
    "\n",
    "iris = load_iris()\n",
    "X = iris.data\n",
    "y = iris.target"
   ]
  },
  {
   "cell_type": "markdown",
   "metadata": {},
   "source": [
    "## Apply the two different models to permuation_test_score and compute the according p-values\n"
   ]
  },
  {
   "cell_type": "code",
   "execution_count": 13,
   "metadata": {},
   "outputs": [
    {
     "name": "stdout",
     "output_type": "stream",
     "text": [
      "this is pvalue_dummy:  1.0\n",
      "this is pvalue_boost:  0.009900990099009901\n"
     ]
    }
   ],
   "source": [
    "from sklearn.model_selection import StratifiedKFold, permutation_test_score\n",
    "from sklearn.dummy import DummyClassifier\n",
    "from sklearn.ensemble import HistGradientBoostingClassifier\n",
    "\n",
    "dummy_clf = DummyClassifier()\n",
    "grad_boosting_clf = HistGradientBoostingClassifier(max_bins=255, max_iter=100)\n",
    "\n",
    "cv = StratifiedKFold(2, shuffle=True, random_state=0)\n",
    "\n",
    "score_dummy, perm_scores_dummy, pvalue_dummy = permutation_test_score(\n",
    "    dummy_clf, X, y, scoring=\"accuracy\", cv=cv, n_permutations=100\n",
    ")\n",
    "      \n",
    "score_boost, perm_scores_boost, pvalue_boost = permutation_test_score(\n",
    "    grad_boosting_clf, X, y, scoring=\"accuracy\", cv=cv, n_permutations=100\n",
    ")\n",
    "print('this is pvalue_dummy: ', pvalue_dummy)\n",
    "print('this is pvalue_boost: ', pvalue_boost)\n"
   ]
  },
  {
   "cell_type": "markdown",
   "metadata": {},
   "source": [
    "# Answers to questions: \n",
    "\n",
    "Q1: What can you conclude about the existence of a significant statistical association between the iris type and the input features (petal and sepal width and length)? \n",
    "\n",
    "Q2: What can you conclude about the ability of each kind of estimator to assess or not such a statistical association between features and target variable?\n",
    "\n",
    "The null hypothesis is that the score was obtained by chance. If the p-value is very small, e.g. smaller than\n",
    "0.025, we should reject the null hypothesis and have reason to believe that the model score was not obtained\n",
    "by random guessing. \n",
    "\n",
    "The p-value for the dummy classifier is: 1\n",
    "The p-value for the HistGradientBoosting Classifier is: 0.000999000999000999\n",
    "Thus, we can conclude that the dummy classifier does not differ (significantly) from random guessing. However, for the boosting-based classifier we must reject the null hypothesis and conclude that this classifier is very different from random guessing. Also, this shows that there is a significant statistical association between the iris type and the input features (Q1) and the boosting-based classifier captures it (Q2).\n",
    "But since the p-value for the dummy classifier is relatively large it is obviously not capable of capturing this association - unlike the boosting-based classifier (Q2)."
   ]
  }
 ],
 "metadata": {
  "kernelspec": {
   "display_name": "Python 3 (ipykernel)",
   "language": "python",
   "name": "python3"
  },
  "language_info": {
   "codemirror_mode": {
    "name": "ipython",
    "version": 3
   },
   "file_extension": ".py",
   "mimetype": "text/x-python",
   "name": "python",
   "nbconvert_exporter": "python",
   "pygments_lexer": "ipython3",
   "version": "3.11.4"
  },
  "varInspector": {
   "cols": {
    "lenName": 16,
    "lenType": 16,
    "lenVar": 40
   },
   "kernels_config": {
    "python": {
     "delete_cmd_postfix": "",
     "delete_cmd_prefix": "del ",
     "library": "var_list.py",
     "varRefreshCmd": "print(var_dic_list())"
    },
    "r": {
     "delete_cmd_postfix": ") ",
     "delete_cmd_prefix": "rm(",
     "library": "var_list.r",
     "varRefreshCmd": "cat(var_dic_list()) "
    }
   },
   "types_to_exclude": [
    "module",
    "function",
    "builtin_function_or_method",
    "instance",
    "_Feature"
   ],
   "window_display": false
  }
 },
 "nbformat": 4,
 "nbformat_minor": 1
}
